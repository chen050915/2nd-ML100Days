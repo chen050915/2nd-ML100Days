{
 "cells": [
  {
   "cell_type": "markdown",
   "metadata": {},
   "source": [
    "### 作業\n",
    "目前已經學過許多的模型，相信大家對整體流程應該比較掌握了，這次作業請改用**手寫辨識資料集**，步驟流程都是一樣的，請試著自己撰寫程式碼來完成所有步驟"
   ]
  },
  {
   "cell_type": "code",
   "execution_count": 1,
   "metadata": {},
   "outputs": [],
   "source": [
    "from sklearn import datasets, metrics\n",
    "from sklearn.ensemble import GradientBoostingClassifier\n",
    "from sklearn.model_selection import train_test_split"
   ]
  },
  {
   "cell_type": "code",
   "execution_count": 4,
   "metadata": {},
   "outputs": [
    {
     "name": "stdout",
     "output_type": "stream",
     "text": [
      "Acuuracy 1:  0.9666666666666667\n",
      "Acuuracy 2:  0.9644444444444444\n",
      "Acuuracy 3:  0.9688888888888889\n"
     ]
    }
   ],
   "source": [
    "# 讀取 mnist 資料集\n",
    "digits = datasets.load_digits()\n",
    "\n",
    "# 切分訓練集/測試集\n",
    "x_train, x_test, y_train, y_test = train_test_split(digits.data, digits.target, test_size=0.25, random_state=4)\n",
    "\n",
    "# 建立模型\n",
    "clf_1 = GradientBoostingClassifier()\n",
    "\n",
    "clf_2 = GradientBoostingClassifier(loss=\"deviance\", #Loss 的選擇，若若改為 exponential 則會變成Adaboosting 演算法，概念念相同但實作稍微不同\n",
    "                                   learning_rate=0.1, #每棵樹對最終結果的影響，應與 n_estimators 成反比\n",
    "                                   n_estimators=100 #決策樹的數量量\n",
    "                                  )                                 \n",
    "                                 \n",
    "clf_3 = GradientBoostingClassifier(loss=\"deviance\", #Loss 的選擇，若若改為 exponential 則會變成Adaboosting 演算法，概念念相同但實作稍微不同\n",
    "                                   learning_rate=0.05, #每棵樹對最終結果的影響，應與 n_estimators 成反比\n",
    "                                   n_estimators=1000 #決策樹的數量量\n",
    "                                  )\n",
    "# 訓練模型\n",
    "clf_1.fit(x_train, y_train)\n",
    "clf_2.fit(x_train, y_train)\n",
    "clf_3.fit(x_train, y_train)\n",
    "\n",
    "# 預測測試集\n",
    "y_pred_1 = clf_1.predict(x_test)\n",
    "y_pred_2 = clf_2.predict(x_test)\n",
    "y_pred_3 = clf_3.predict(x_test)\n",
    "\n",
    "acc_1 = metrics.accuracy_score(y_test, y_pred_1)\n",
    "acc_2 = metrics.accuracy_score(y_test, y_pred_2)\n",
    "acc_3 = metrics.accuracy_score(y_test, y_pred_3)\n",
    "print(\"Acuuracy 1: \", acc_1)\n",
    "print(\"Acuuracy 2: \", acc_2)\n",
    "print(\"Acuuracy 3: \", acc_3)"
   ]
  },
  {
   "cell_type": "code",
   "execution_count": null,
   "metadata": {},
   "outputs": [],
   "source": []
  }
 ],
 "metadata": {
  "kernelspec": {
   "display_name": "Python 3",
   "language": "python",
   "name": "python3"
  },
  "language_info": {
   "codemirror_mode": {
    "name": "ipython",
    "version": 3
   },
   "file_extension": ".py",
   "mimetype": "text/x-python",
   "name": "python",
   "nbconvert_exporter": "python",
   "pygments_lexer": "ipython3",
   "version": "3.7.1"
  }
 },
 "nbformat": 4,
 "nbformat_minor": 2
}
