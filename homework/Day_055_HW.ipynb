{
 "cells": [
  {
   "cell_type": "markdown",
   "metadata": {},
   "source": [
    "# 作業\n",
    "\n",
    "- 作業目標 : iris (dataset.load_iris()) 資料嘗試跑 kmeans (可以測試不同的群數 , init 等)"
   ]
  },
  {
   "cell_type": "code",
   "execution_count": 6,
   "metadata": {},
   "outputs": [],
   "source": [
    "from sklearn import cluster, datasets, metrics\n",
    "\n",
    "iris = datasets.load_iris()\n",
    "X = iris.data\n",
    "y = iris.target"
   ]
  },
  {
   "cell_type": "markdown",
   "metadata": {},
   "source": [
    "### 載入 相關套件 並 執行 kmean 實驗 ...\n",
    "\n",
    "- 實驗測試不同的群數\n",
    "- 實驗測試不同的初始值\n",
    "- 呈現結果\n",
    "\n",
    "iris data dim 較高，以 Silhouette Score 來呈現結果好壞(The best value is 1 and the worst value is -1)"
   ]
  },
  {
   "cell_type": "code",
   "execution_count": 15,
   "metadata": {},
   "outputs": [
    {
     "name": "stdout",
     "output_type": "stream",
     "text": [
      "k_means_8 :  0.3574536925852705\n",
      "k_means_8_and_init_1 :  0.3250427009652446\n",
      "k_means_8_and_init_5 :  0.3410622635920502\n",
      "k_means_3 :  0.5528190123564091\n",
      "k_means_3_and_init_1 :  0.5528190123564091\n",
      "k_means_3_and_init_5 :  0.5528190123564091\n"
     ]
    }
   ],
   "source": [
    "from sklearn.cluster import KMeans\n",
    "\n",
    "estimators = [('k_means_8', KMeans(n_clusters=8)),\n",
    "              ('k_means_8_and_init_1', KMeans(n_clusters=8, n_init=1,\n",
    "                                               init='random')),\n",
    "              ('k_means_8_and_init_5', KMeans(n_clusters=8, n_init=5,\n",
    "                                               init='random')),\n",
    "              ('k_means_3', KMeans(n_clusters=3)),\n",
    "              ('k_means_3_and_init_1', KMeans(n_clusters=3, n_init=1,\n",
    "                                               init='random')),\n",
    "              ('k_means_3_and_init_5', KMeans(n_clusters=3, n_init=5,\n",
    "                                               init='random'))]\n",
    "\n",
    "for name, est in estimators:\n",
    "        ## fit data\n",
    "    est.fit(X)\n",
    "    labels = est.labels_\n",
    "    silhouette_avg = metrics.silhouette_score(X, labels)\n",
    "    print(name, \": \", silhouette_avg)"
   ]
  },
  {
   "cell_type": "markdown",
   "metadata": {},
   "source": [
    "看起來分 3 群會較 8 群好，init 則不會有太大的影響"
   ]
  },
  {
   "cell_type": "code",
   "execution_count": null,
   "metadata": {},
   "outputs": [],
   "source": []
  }
 ],
 "metadata": {
  "kernelspec": {
   "display_name": "Python 3",
   "language": "python",
   "name": "python3"
  },
  "language_info": {
   "codemirror_mode": {
    "name": "ipython",
    "version": 3
   },
   "file_extension": ".py",
   "mimetype": "text/x-python",
   "name": "python",
   "nbconvert_exporter": "python",
   "pygments_lexer": "ipython3",
   "version": "3.7.1"
  }
 },
 "nbformat": 4,
 "nbformat_minor": 2
}
