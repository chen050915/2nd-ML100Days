{
 "cells": [
  {
   "cell_type": "markdown",
   "metadata": {},
   "source": [
    "# 作業\n",
    "* 在精簡深度學習的方式上 : 卷積類神經 (CNN) 採用像素遠近，而遞歸類神經 (RNN) 採用著則是時間遠近\n",
    "* 那麼，既然有著類似的設計精神，兩者是否有可能互換應用呢?"
   ]
  },
  {
   "cell_type": "markdown",
   "metadata": {
    "collapsed": true
   },
   "source": [
    "感覺有可能歐，我來瞎掰一下。\n",
    "\n",
    "例如，在日期週期相關的應用中，可以根據特殊情況使用 CNN，像是使用 week 來排序，一排即七天，然後使用 CNN 截取特徵，同時考慮時間集中性與星期的特性，不過較難解釋，也難想像這可以做的非常好。\n",
    "\n",
    "其實我覺得兩者是可以互換應用的，但表現可能不會比較好，因為問題的類型特性就是不同的。不過感覺說不定可以一起用耶，例如在影片特徵的問題上，同時就有兩種特性，圖片的特性加上時間的特性，這個時候說不定可以將 CNN & RNN 同時使用來解決這個問題。"
   ]
  },
  {
   "cell_type": "code",
   "execution_count": null,
   "metadata": {},
   "outputs": [],
   "source": []
  }
 ],
 "metadata": {
  "kernelspec": {
   "display_name": "Python 3",
   "language": "python",
   "name": "python3"
  },
  "language_info": {
   "codemirror_mode": {
    "name": "ipython",
    "version": 3
   },
   "file_extension": ".py",
   "mimetype": "text/x-python",
   "name": "python",
   "nbconvert_exporter": "python",
   "pygments_lexer": "ipython3",
   "version": "3.7.1"
  }
 },
 "nbformat": 4,
 "nbformat_minor": 2
}
