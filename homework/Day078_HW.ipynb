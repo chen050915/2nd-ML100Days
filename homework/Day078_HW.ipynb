{
 "cells": [
  {
   "cell_type": "markdown",
   "metadata": {},
   "source": [
    "## Work\n",
    "1. 請嘗試將 preproc_x 替換成以每筆資料的 min/max 進行標準化至 -1 ~ 1 間，再進行訓練\n",
    "2. 請嘗試將 mlp 疊更深 (e.g 5~10 層)，進行訓練後觀察 learning curve 的走勢\n",
    "3. (optional) 請改用 GPU 進行訓練 (如果你有 GPU 的話)，比較使用 CPU 與 GPU 的訓練速度"
   ]
  },
  {
   "cell_type": "code",
   "execution_count": 21,
   "metadata": {},
   "outputs": [],
   "source": [
    "import os\n",
    "import keras\n",
    "import numpy as np\n",
    "\n",
    "# 請嘗試設定 GPU：os.environ\n",
    "os.environ[\"CUDA_VISIBLE_DEVICES\"] = \"\""
   ]
  },
  {
   "cell_type": "code",
   "execution_count": 22,
   "metadata": {},
   "outputs": [],
   "source": [
    "train, test = keras.datasets.cifar10.load_data()"
   ]
  },
  {
   "cell_type": "code",
   "execution_count": 23,
   "metadata": {},
   "outputs": [],
   "source": [
    "## 資料前處理\n",
    "\"\"\"\n",
    "Your code here\n",
    "\"\"\"\n",
    "def preproc_x(x, flatten=True):\n",
    "    x = 2*( (x-np.min(x)) / (np.max(x)-np.min(x))-0.5 )\n",
    "    if flatten:\n",
    "        x = x.reshape((len(x), -1))\n",
    "    return x\n",
    "\n",
    "def preproc_y(y, num_classes=10):\n",
    "    if y.shape[-1] == 1:\n",
    "        y = keras.utils.to_categorical(y, num_classes)\n",
    "    return y "
   ]
  },
  {
   "cell_type": "code",
   "execution_count": 24,
   "metadata": {},
   "outputs": [],
   "source": [
    "x_train, y_train = train\n",
    "x_test, y_test = test\n",
    "\n",
    "# Preproc the inputs\n",
    "x_train = preproc_x(x_train)\n",
    "x_test = preproc_x(x_test)\n",
    "\n",
    "# Preprc the outputs\n",
    "y_train = preproc_y(y_train)\n",
    "y_test = preproc_y(y_test)"
   ]
  },
  {
   "cell_type": "code",
   "execution_count": 25,
   "metadata": {},
   "outputs": [
    {
     "name": "stderr",
     "output_type": "stream",
     "text": [
      "WARNING: Logging before flag parsing goes to stderr.\n",
      "W0811 18:32:17.860601  9576 deprecation_wrapper.py:119] From C:\\Users\\Francis\\Anaconda3\\lib\\site-packages\\keras\\backend\\tensorflow_backend.py:74: The name tf.get_default_graph is deprecated. Please use tf.compat.v1.get_default_graph instead.\n",
      "\n",
      "W0811 18:32:17.909601  9576 deprecation_wrapper.py:119] From C:\\Users\\Francis\\Anaconda3\\lib\\site-packages\\keras\\backend\\tensorflow_backend.py:517: The name tf.placeholder is deprecated. Please use tf.compat.v1.placeholder instead.\n",
      "\n",
      "W0811 18:32:17.940801  9576 deprecation_wrapper.py:119] From C:\\Users\\Francis\\Anaconda3\\lib\\site-packages\\keras\\backend\\tensorflow_backend.py:4138: The name tf.random_uniform is deprecated. Please use tf.random.uniform instead.\n",
      "\n"
     ]
    },
    {
     "name": "stdout",
     "output_type": "stream",
     "text": [
      "_________________________________________________________________\n",
      "Layer (type)                 Output Shape              Param #   \n",
      "=================================================================\n",
      "input_1 (InputLayer)         (None, 3072)              0         \n",
      "_________________________________________________________________\n",
      "hidden_layer1 (Dense)        (None, 512)               1573376   \n",
      "_________________________________________________________________\n",
      "hidden_layer2 (Dense)        (None, 256)               131328    \n",
      "_________________________________________________________________\n",
      "hidden_layer3 (Dense)        (None, 128)               32896     \n",
      "_________________________________________________________________\n",
      "hidden_layer4 (Dense)        (None, 64)                8256      \n",
      "_________________________________________________________________\n",
      "hidden_layer5 (Dense)        (None, 32)                2080      \n",
      "_________________________________________________________________\n",
      "output (Dense)               (None, 10)                330       \n",
      "=================================================================\n",
      "Total params: 1,748,266\n",
      "Trainable params: 1,748,266\n",
      "Non-trainable params: 0\n",
      "_________________________________________________________________\n"
     ]
    }
   ],
   "source": [
    "def build_mlp(input_shape, output_units=10, num_neurons=[512, 256, 128]):\n",
    "    input_layer = keras.layers.Input(input_shape)\n",
    "    \n",
    "    for i, n_units in enumerate(num_neurons):\n",
    "        if i == 0:\n",
    "            x = keras.layers.Dense(units=n_units, activation=\"relu\", name=\"hidden_layer\"+str(i+1))(input_layer)\n",
    "        else:\n",
    "            x = keras.layers.Dense(units=n_units, activation=\"relu\", name=\"hidden_layer\"+str(i+1))(x)\n",
    "    \n",
    "    out = keras.layers.Dense(units=output_units, activation=\"softmax\", name=\"output\")(x)\n",
    "    \n",
    "    model = keras.models.Model(inputs=[input_layer], outputs=[out])\n",
    "    return model\n",
    "\n",
    "\n",
    "model = build_mlp(input_shape=x_train.shape[1:], num_neurons=[512, 256, 128, 64, 32])\n",
    "model.summary()"
   ]
  },
  {
   "cell_type": "code",
   "execution_count": 26,
   "metadata": {},
   "outputs": [],
   "source": [
    "## 超參數設定\n",
    "LEARNING_RATE = 0.001\n",
    "EPOCHS = 100\n",
    "BATCH_SIZE = 256"
   ]
  },
  {
   "cell_type": "code",
   "execution_count": 27,
   "metadata": {},
   "outputs": [
    {
     "name": "stderr",
     "output_type": "stream",
     "text": [
      "W0811 18:32:18.089801  9576 deprecation_wrapper.py:119] From C:\\Users\\Francis\\Anaconda3\\lib\\site-packages\\keras\\optimizers.py:790: The name tf.train.Optimizer is deprecated. Please use tf.compat.v1.train.Optimizer instead.\n",
      "\n",
      "W0811 18:32:18.102801  9576 deprecation_wrapper.py:119] From C:\\Users\\Francis\\Anaconda3\\lib\\site-packages\\keras\\backend\\tensorflow_backend.py:3295: The name tf.log is deprecated. Please use tf.math.log instead.\n",
      "\n"
     ]
    }
   ],
   "source": [
    "optimizer = keras.optimizers.Adam(lr=LEARNING_RATE)\n",
    "model.compile(loss=\"categorical_crossentropy\", metrics=[\"accuracy\"], optimizer=optimizer)"
   ]
  },
  {
   "cell_type": "code",
   "execution_count": 28,
   "metadata": {},
   "outputs": [
    {
     "name": "stderr",
     "output_type": "stream",
     "text": [
      "W0811 18:32:18.235001  9576 deprecation.py:323] From C:\\Users\\Francis\\Anaconda3\\lib\\site-packages\\tensorflow\\python\\ops\\math_grad.py:1250: add_dispatch_support.<locals>.wrapper (from tensorflow.python.ops.array_ops) is deprecated and will be removed in a future version.\n",
      "Instructions for updating:\n",
      "Use tf.where in 2.0, which has the same broadcast rule as np.where\n",
      "W0811 18:32:18.325001  9576 deprecation_wrapper.py:119] From C:\\Users\\Francis\\Anaconda3\\lib\\site-packages\\keras\\backend\\tensorflow_backend.py:986: The name tf.assign_add is deprecated. Please use tf.compat.v1.assign_add instead.\n",
      "\n"
     ]
    },
    {
     "name": "stdout",
     "output_type": "stream",
     "text": [
      "Train on 50000 samples, validate on 10000 samples\n",
      "Epoch 1/100\n",
      "50000/50000 [==============================] - 14s 280us/step - loss: 1.7162 - acc: 0.3918 - val_loss: 1.5590 - val_acc: 0.4449\n",
      "Epoch 2/100\n",
      "50000/50000 [==============================] - 12s 240us/step - loss: 1.4893 - acc: 0.4737 - val_loss: 1.4454 - val_acc: 0.4936\n",
      "Epoch 3/100\n",
      "50000/50000 [==============================] - 13s 268us/step - loss: 1.3678 - acc: 0.5179 - val_loss: 1.4145 - val_acc: 0.4996\n",
      "Epoch 4/100\n",
      "50000/50000 [==============================] - 13s 266us/step - loss: 1.2749 - acc: 0.5499 - val_loss: 1.3870 - val_acc: 0.5142\n",
      "Epoch 5/100\n",
      "50000/50000 [==============================] - 11s 220us/step - loss: 1.1901 - acc: 0.5817 - val_loss: 1.3882 - val_acc: 0.5170\n",
      "Epoch 6/100\n",
      "50000/50000 [==============================] - 11s 226us/step - loss: 1.1137 - acc: 0.6078 - val_loss: 1.3632 - val_acc: 0.5325\n",
      "Epoch 7/100\n",
      "50000/50000 [==============================] - 11s 227us/step - loss: 1.0436 - acc: 0.6306 - val_loss: 1.3772 - val_acc: 0.5257\n",
      "Epoch 8/100\n",
      "50000/50000 [==============================] - 13s 267us/step - loss: 0.9659 - acc: 0.6581 - val_loss: 1.4159 - val_acc: 0.5328\n",
      "Epoch 9/100\n",
      "50000/50000 [==============================] - 13s 270us/step - loss: 0.9044 - acc: 0.6794 - val_loss: 1.4224 - val_acc: 0.5352\n",
      "Epoch 10/100\n",
      "50000/50000 [==============================] - 11s 230us/step - loss: 0.8375 - acc: 0.7020 - val_loss: 1.4553 - val_acc: 0.5397\n",
      "Epoch 11/100\n",
      "50000/50000 [==============================] - 13s 250us/step - loss: 0.7621 - acc: 0.7286 - val_loss: 1.4894 - val_acc: 0.5395\n",
      "Epoch 12/100\n",
      "50000/50000 [==============================] - 12s 237us/step - loss: 0.7019 - acc: 0.7495 - val_loss: 1.6096 - val_acc: 0.5348\n",
      "Epoch 13/100\n",
      "50000/50000 [==============================] - 12s 240us/step - loss: 0.6420 - acc: 0.7715 - val_loss: 1.6255 - val_acc: 0.5405\n",
      "Epoch 14/100\n",
      "50000/50000 [==============================] - 13s 267us/step - loss: 0.5894 - acc: 0.7901 - val_loss: 1.6852 - val_acc: 0.5382\n",
      "Epoch 15/100\n",
      "50000/50000 [==============================] - 15s 291us/step - loss: 0.5369 - acc: 0.8097 - val_loss: 1.7938 - val_acc: 0.5346\n",
      "Epoch 16/100\n",
      "50000/50000 [==============================] - 11s 221us/step - loss: 0.4966 - acc: 0.8227 - val_loss: 1.8741 - val_acc: 0.5374\n",
      "Epoch 17/100\n",
      "50000/50000 [==============================] - 11s 221us/step - loss: 0.4527 - acc: 0.8405 - val_loss: 1.9353 - val_acc: 0.5309\n",
      "Epoch 18/100\n",
      "50000/50000 [==============================] - 12s 248us/step - loss: 0.4067 - acc: 0.8568 - val_loss: 2.0186 - val_acc: 0.5297\n",
      "Epoch 19/100\n",
      "50000/50000 [==============================] - 12s 232us/step - loss: 0.3817 - acc: 0.8644 - val_loss: 2.1335 - val_acc: 0.5358\n",
      "Epoch 20/100\n",
      "50000/50000 [==============================] - 11s 226us/step - loss: 0.3539 - acc: 0.8761 - val_loss: 2.2456 - val_acc: 0.5274\n",
      "Epoch 21/100\n",
      "50000/50000 [==============================] - 11s 223us/step - loss: 0.3221 - acc: 0.8868 - val_loss: 2.3396 - val_acc: 0.5308\n",
      "Epoch 22/100\n",
      "50000/50000 [==============================] - 11s 225us/step - loss: 0.3024 - acc: 0.8933 - val_loss: 2.3352 - val_acc: 0.5260\n",
      "Epoch 23/100\n",
      "50000/50000 [==============================] - 11s 228us/step - loss: 0.2818 - acc: 0.9014 - val_loss: 2.4444 - val_acc: 0.5282\n",
      "Epoch 24/100\n",
      "50000/50000 [==============================] - 11s 227us/step - loss: 0.2687 - acc: 0.9064 - val_loss: 2.5520 - val_acc: 0.5274\n",
      "Epoch 25/100\n",
      "50000/50000 [==============================] - 12s 230us/step - loss: 0.2562 - acc: 0.9106 - val_loss: 2.5875 - val_acc: 0.5298\n",
      "Epoch 26/100\n",
      "50000/50000 [==============================] - 11s 227us/step - loss: 0.2357 - acc: 0.9182 - val_loss: 2.7001 - val_acc: 0.5315\n",
      "Epoch 27/100\n",
      "50000/50000 [==============================] - 11s 227us/step - loss: 0.2183 - acc: 0.9245 - val_loss: 2.7684 - val_acc: 0.5354\n",
      "Epoch 28/100\n",
      "50000/50000 [==============================] - 11s 227us/step - loss: 0.2051 - acc: 0.9278 - val_loss: 2.8455 - val_acc: 0.5310\n",
      "Epoch 29/100\n",
      "50000/50000 [==============================] - 11s 228us/step - loss: 0.2157 - acc: 0.9248 - val_loss: 2.9042 - val_acc: 0.5243\n",
      "Epoch 30/100\n",
      "50000/50000 [==============================] - 11s 227us/step - loss: 0.1902 - acc: 0.9340 - val_loss: 2.8789 - val_acc: 0.5377\n",
      "Epoch 31/100\n",
      "50000/50000 [==============================] - 12s 230us/step - loss: 0.1848 - acc: 0.9368 - val_loss: 3.0514 - val_acc: 0.5311\n",
      "Epoch 32/100\n",
      "50000/50000 [==============================] - 11s 227us/step - loss: 0.1782 - acc: 0.9388 - val_loss: 3.0984 - val_acc: 0.5291\n",
      "Epoch 33/100\n",
      "50000/50000 [==============================] - 11s 227us/step - loss: 0.1850 - acc: 0.9362 - val_loss: 3.1071 - val_acc: 0.5236\n",
      "Epoch 34/100\n",
      "50000/50000 [==============================] - 11s 229us/step - loss: 0.1822 - acc: 0.9379 - val_loss: 3.1657 - val_acc: 0.5284\n",
      "Epoch 35/100\n",
      "50000/50000 [==============================] - 11s 227us/step - loss: 0.1596 - acc: 0.9457 - val_loss: 3.1951 - val_acc: 0.5336\n",
      "Epoch 36/100\n",
      "50000/50000 [==============================] - 11s 227us/step - loss: 0.1608 - acc: 0.9459 - val_loss: 3.1555 - val_acc: 0.5335\n",
      "Epoch 37/100\n",
      "50000/50000 [==============================] - 11s 227us/step - loss: 0.1300 - acc: 0.9565 - val_loss: 3.2586 - val_acc: 0.5294\n",
      "Epoch 38/100\n",
      "50000/50000 [==============================] - 11s 227us/step - loss: 0.1659 - acc: 0.9444 - val_loss: 3.2364 - val_acc: 0.5225\n",
      "Epoch 39/100\n",
      "50000/50000 [==============================] - 11s 230us/step - loss: 0.1433 - acc: 0.9516 - val_loss: 3.3308 - val_acc: 0.5328\n",
      "Epoch 40/100\n",
      "50000/50000 [==============================] - 11s 230us/step - loss: 0.1408 - acc: 0.9518 - val_loss: 3.4133 - val_acc: 0.5305\n",
      "Epoch 41/100\n",
      "50000/50000 [==============================] - 12s 231us/step - loss: 0.1510 - acc: 0.9495 - val_loss: 3.2890 - val_acc: 0.5290\n",
      "Epoch 42/100\n",
      "50000/50000 [==============================] - 12s 233us/step - loss: 0.1245 - acc: 0.9572 - val_loss: 3.4639 - val_acc: 0.5215\n",
      "Epoch 43/100\n",
      "50000/50000 [==============================] - 11s 228us/step - loss: 0.1314 - acc: 0.9554 - val_loss: 3.4534 - val_acc: 0.5299\n",
      "Epoch 44/100\n",
      "50000/50000 [==============================] - 12s 230us/step - loss: 0.1369 - acc: 0.9544 - val_loss: 3.3986 - val_acc: 0.5356\n",
      "Epoch 45/100\n",
      "50000/50000 [==============================] - 11s 225us/step - loss: 0.1293 - acc: 0.9570 - val_loss: 3.4400 - val_acc: 0.5298\n",
      "Epoch 46/100\n",
      "50000/50000 [==============================] - 11s 227us/step - loss: 0.1400 - acc: 0.9528 - val_loss: 3.4200 - val_acc: 0.5316\n",
      "Epoch 47/100\n",
      "50000/50000 [==============================] - 11s 229us/step - loss: 0.1254 - acc: 0.9572 - val_loss: 3.4910 - val_acc: 0.5281\n",
      "Epoch 48/100\n",
      "50000/50000 [==============================] - 11s 227us/step - loss: 0.1144 - acc: 0.9616 - val_loss: 3.5268 - val_acc: 0.5291\n",
      "Epoch 49/100\n",
      "50000/50000 [==============================] - 11s 224us/step - loss: 0.1005 - acc: 0.9659 - val_loss: 3.4777 - val_acc: 0.5291\n",
      "Epoch 50/100\n",
      "50000/50000 [==============================] - 11s 223us/step - loss: 0.1122 - acc: 0.9627 - val_loss: 3.5957 - val_acc: 0.5299\n",
      "Epoch 51/100\n",
      "50000/50000 [==============================] - 11s 223us/step - loss: 0.1213 - acc: 0.9598 - val_loss: 3.5905 - val_acc: 0.5296\n",
      "Epoch 52/100\n",
      "50000/50000 [==============================] - 12s 236us/step - loss: 0.1034 - acc: 0.9661 - val_loss: 3.5449 - val_acc: 0.5312\n",
      "Epoch 53/100\n",
      "50000/50000 [==============================] - 11s 227us/step - loss: 0.0954 - acc: 0.9673 - val_loss: 3.6885 - val_acc: 0.5251\n",
      "Epoch 54/100\n",
      "50000/50000 [==============================] - 11s 224us/step - loss: 0.1445 - acc: 0.9525 - val_loss: 3.5967 - val_acc: 0.5268\n",
      "Epoch 55/100\n",
      "50000/50000 [==============================] - 11s 226us/step - loss: 0.1213 - acc: 0.9600 - val_loss: 3.6640 - val_acc: 0.5294\n",
      "Epoch 56/100\n",
      "50000/50000 [==============================] - 11s 226us/step - loss: 0.0959 - acc: 0.9686 - val_loss: 3.6672 - val_acc: 0.5325\n",
      "Epoch 57/100\n",
      "50000/50000 [==============================] - 11s 225us/step - loss: 0.0920 - acc: 0.9689 - val_loss: 3.6193 - val_acc: 0.5341\n",
      "Epoch 58/100\n",
      "50000/50000 [==============================] - 11s 226us/step - loss: 0.0942 - acc: 0.9691 - val_loss: 3.6664 - val_acc: 0.5294\n"
     ]
    },
    {
     "name": "stdout",
     "output_type": "stream",
     "text": [
      "Epoch 59/100\n",
      "50000/50000 [==============================] - 10s 210us/step - loss: 0.1144 - acc: 0.9617 - val_loss: 3.5479 - val_acc: 0.5242\n",
      "Epoch 60/100\n",
      "50000/50000 [==============================] - 11s 211us/step - loss: 0.0948 - acc: 0.9693 - val_loss: 3.7452 - val_acc: 0.5334\n",
      "Epoch 61/100\n",
      "50000/50000 [==============================] - 11s 211us/step - loss: 0.0904 - acc: 0.9699 - val_loss: 3.6710 - val_acc: 0.5283\n",
      "Epoch 62/100\n",
      "50000/50000 [==============================] - 11s 211us/step - loss: 0.0993 - acc: 0.9674 - val_loss: 3.6344 - val_acc: 0.5332\n",
      "Epoch 63/100\n",
      "50000/50000 [==============================] - 11s 212us/step - loss: 0.1013 - acc: 0.9669 - val_loss: 3.7459 - val_acc: 0.5316\n",
      "Epoch 64/100\n",
      "50000/50000 [==============================] - 11s 212us/step - loss: 0.0870 - acc: 0.9717 - val_loss: 3.8385 - val_acc: 0.5294\n",
      "Epoch 65/100\n",
      "50000/50000 [==============================] - 11s 211us/step - loss: 0.1079 - acc: 0.9652 - val_loss: 3.8152 - val_acc: 0.5320\n",
      "Epoch 66/100\n",
      "50000/50000 [==============================] - 11s 216us/step - loss: 0.0903 - acc: 0.9697 - val_loss: 3.8020 - val_acc: 0.5273\n",
      "Epoch 67/100\n",
      "50000/50000 [==============================] - 11s 214us/step - loss: 0.0830 - acc: 0.9727 - val_loss: 3.8079 - val_acc: 0.5350\n",
      "Epoch 68/100\n",
      "50000/50000 [==============================] - 11s 213us/step - loss: 0.0908 - acc: 0.9710 - val_loss: 3.8564 - val_acc: 0.5303\n",
      "Epoch 69/100\n",
      "50000/50000 [==============================] - 11s 213us/step - loss: 0.1069 - acc: 0.9653 - val_loss: 3.7530 - val_acc: 0.5242\n",
      "Epoch 70/100\n",
      "50000/50000 [==============================] - 11s 214us/step - loss: 0.0818 - acc: 0.9729 - val_loss: 3.7694 - val_acc: 0.5291\n",
      "Epoch 71/100\n",
      "50000/50000 [==============================] - 11s 212us/step - loss: 0.0786 - acc: 0.9738 - val_loss: 3.8241 - val_acc: 0.5257\n",
      "Epoch 72/100\n",
      "50000/50000 [==============================] - 11s 213us/step - loss: 0.0922 - acc: 0.9707 - val_loss: 3.8632 - val_acc: 0.5288\n",
      "Epoch 73/100\n",
      "50000/50000 [==============================] - 11s 214us/step - loss: 0.1067 - acc: 0.9657 - val_loss: 3.7105 - val_acc: 0.5309\n",
      "Epoch 74/100\n",
      "50000/50000 [==============================] - 11s 212us/step - loss: 0.0704 - acc: 0.9757 - val_loss: 3.9080 - val_acc: 0.5307\n",
      "Epoch 75/100\n",
      "50000/50000 [==============================] - 11s 213us/step - loss: 0.0776 - acc: 0.9755 - val_loss: 3.9258 - val_acc: 0.5205\n",
      "Epoch 76/100\n",
      "50000/50000 [==============================] - 11s 214us/step - loss: 0.0771 - acc: 0.9750 - val_loss: 3.8904 - val_acc: 0.5309\n",
      "Epoch 77/100\n",
      "50000/50000 [==============================] - 11s 215us/step - loss: 0.0699 - acc: 0.9779 - val_loss: 3.7883 - val_acc: 0.5380\n",
      "Epoch 78/100\n",
      "50000/50000 [==============================] - 11s 215us/step - loss: 0.0832 - acc: 0.9732 - val_loss: 3.8498 - val_acc: 0.5268\n",
      "Epoch 79/100\n",
      "50000/50000 [==============================] - 11s 214us/step - loss: 0.0690 - acc: 0.9778 - val_loss: 3.9708 - val_acc: 0.5271\n",
      "Epoch 80/100\n",
      "50000/50000 [==============================] - 11s 215us/step - loss: 0.0855 - acc: 0.9721 - val_loss: 3.8666 - val_acc: 0.5213\n",
      "Epoch 81/100\n",
      "50000/50000 [==============================] - 11s 213us/step - loss: 0.0918 - acc: 0.9702 - val_loss: 3.8549 - val_acc: 0.5243\n",
      "Epoch 82/100\n",
      "50000/50000 [==============================] - 11s 214us/step - loss: 0.0749 - acc: 0.9757 - val_loss: 3.8201 - val_acc: 0.5341\n",
      "Epoch 83/100\n",
      "50000/50000 [==============================] - 11s 213us/step - loss: 0.0697 - acc: 0.9777 - val_loss: 4.0060 - val_acc: 0.5225\n",
      "Epoch 84/100\n",
      "50000/50000 [==============================] - 11s 214us/step - loss: 0.0788 - acc: 0.9753 - val_loss: 3.9674 - val_acc: 0.5262\n",
      "Epoch 85/100\n",
      "50000/50000 [==============================] - 11s 216us/step - loss: 0.0577 - acc: 0.9809 - val_loss: 3.9245 - val_acc: 0.5345\n",
      "Epoch 86/100\n",
      "50000/50000 [==============================] - 11s 215us/step - loss: 0.0809 - acc: 0.9736 - val_loss: 3.9331 - val_acc: 0.5319\n",
      "Epoch 87/100\n",
      "50000/50000 [==============================] - 11s 215us/step - loss: 0.0671 - acc: 0.9783 - val_loss: 3.9725 - val_acc: 0.5321\n",
      "Epoch 88/100\n",
      "50000/50000 [==============================] - 11s 216us/step - loss: 0.0652 - acc: 0.9789 - val_loss: 3.8971 - val_acc: 0.5318\n",
      "Epoch 89/100\n",
      "50000/50000 [==============================] - 11s 216us/step - loss: 0.0871 - acc: 0.9718 - val_loss: 3.8904 - val_acc: 0.5387\n",
      "Epoch 90/100\n",
      "50000/50000 [==============================] - 11s 215us/step - loss: 0.0587 - acc: 0.9807 - val_loss: 4.0549 - val_acc: 0.5311\n",
      "Epoch 91/100\n",
      "50000/50000 [==============================] - 11s 215us/step - loss: 0.0684 - acc: 0.9779 - val_loss: 4.0067 - val_acc: 0.5351\n",
      "Epoch 92/100\n",
      "50000/50000 [==============================] - 11s 215us/step - loss: 0.0724 - acc: 0.9769 - val_loss: 4.1209 - val_acc: 0.5222\n",
      "Epoch 93/100\n",
      "50000/50000 [==============================] - 11s 216us/step - loss: 0.1014 - acc: 0.9686 - val_loss: 3.9397 - val_acc: 0.5362\n",
      "Epoch 94/100\n",
      "50000/50000 [==============================] - 11s 220us/step - loss: 0.0464 - acc: 0.9848 - val_loss: 4.0661 - val_acc: 0.5358\n",
      "Epoch 95/100\n",
      "50000/50000 [==============================] - 11s 218us/step - loss: 0.0659 - acc: 0.9787 - val_loss: 4.0604 - val_acc: 0.5237\n",
      "Epoch 96/100\n",
      "50000/50000 [==============================] - 11s 216us/step - loss: 0.0758 - acc: 0.9750 - val_loss: 3.9198 - val_acc: 0.5345\n",
      "Epoch 97/100\n",
      "50000/50000 [==============================] - 11s 216us/step - loss: 0.0657 - acc: 0.9789 - val_loss: 4.0460 - val_acc: 0.5209\n",
      "Epoch 98/100\n",
      "50000/50000 [==============================] - 11s 217us/step - loss: 0.0569 - acc: 0.9814 - val_loss: 3.9838 - val_acc: 0.5321\n",
      "Epoch 99/100\n",
      "50000/50000 [==============================] - 11s 217us/step - loss: 0.0544 - acc: 0.9824 - val_loss: 4.0620 - val_acc: 0.5275\n",
      "Epoch 100/100\n",
      "50000/50000 [==============================] - 11s 217us/step - loss: 0.0743 - acc: 0.9768 - val_loss: 3.9800 - val_acc: 0.5298\n"
     ]
    },
    {
     "data": {
      "text/plain": [
       "<keras.callbacks.History at 0x136d48d0>"
      ]
     },
     "execution_count": 28,
     "metadata": {},
     "output_type": "execute_result"
    }
   ],
   "source": [
    "model.fit(x_train, y_train, \n",
    "          epochs=EPOCHS, \n",
    "          batch_size=BATCH_SIZE, \n",
    "          validation_data=(x_test, y_test), \n",
    "          shuffle=True)"
   ]
  },
  {
   "cell_type": "code",
   "execution_count": 30,
   "metadata": {},
   "outputs": [
    {
     "data": {
      "image/png": "[encoded data removed]",
      "text/plain": [
       "<Figure size 432x288 with 1 Axes>"
      ]
     },
     "metadata": {
      "needs_background": "light"
     },
     "output_type": "display_data"
    }
   ],
   "source": [
    "import matplotlib.pyplot as plt\n",
    "\n",
    "\n",
    "train_loss = model.history.history[\"loss\"]\n",
    "valid_loss = model.history.history[\"val_loss\"]\n",
    "\n",
    "train_acc = model.history.history[\"acc\"]\n",
    "valid_acc = model.history.history[\"val_acc\"]\n",
    "\n",
    "plt.plot(range(len(train_loss)), train_loss, label=\"train loss\")\n",
    "plt.plot(range(len(valid_loss)), valid_loss, label=\"valid loss\")\n",
    "plt.legend()\n",
    "plt.title(\"Loss\")\n",
    "plt.show()"
   ]
  },
  {
   "cell_type": "code",
   "execution_count": 31,
   "metadata": {},
   "outputs": [
    {
     "data": {
      "image/png": "[encoded data removed]",
      "text/plain": [
       "<Figure size 432x288 with 1 Axes>"
      ]
     },
     "metadata": {
      "needs_background": "light"
     },
     "output_type": "display_data"
    }
   ],
   "source": [
    "plt.plot(range(len(train_acc)), train_acc, label=\"train accuracy\")\n",
    "plt.plot(range(len(valid_acc)), valid_acc, label=\"valid accuracy\")\n",
    "plt.legend()\n",
    "plt.title(\"Accuracy\")\n",
    "plt.show()"
   ]
  },
  {
   "cell_type": "code",
   "execution_count": null,
   "metadata": {},
   "outputs": [],
   "source": []
  }
 ],
 "metadata": {
  "kernelspec": {
   "display_name": "Python 3",
   "language": "python",
   "name": "python3"
  },
  "language_info": {
   "codemirror_mode": {
    "name": "ipython",
    "version": 3
   },
   "file_extension": ".py",
   "mimetype": "text/x-python",
   "name": "python",
   "nbconvert_exporter": "python",
   "pygments_lexer": "ipython3",
   "version": "3.7.1"
  }
 },
 "nbformat": 4,
 "nbformat_minor": 2
}
