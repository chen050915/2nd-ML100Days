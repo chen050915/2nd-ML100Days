{
 "cells": [
  {
   "cell_type": "markdown",
   "metadata": {},
   "source": [
    "## 練習時間"
   ]
  },
  {
   "cell_type": "markdown",
   "metadata": {},
   "source": [
    "請觀看台大電機李宏毅教授的影片。李教授會用非常淺顯易懂的方式介紹甚麼是機器學習。\n"
   ]
  },
  {
   "cell_type": "markdown",
   "metadata": {},
   "source": [
    "[youtube](https://www.youtube.com/watch?v=CXgbekl66jc)"
   ]
  },
  {
   "cell_type": "markdown",
   "metadata": {},
   "source": [
    "## 請找出一個你認為機器學習可以發光發熱的領域並闡述原因? "
   ]
  },
  {
   "cell_type": "markdown",
   "metadata": {},
   "source": [
    "   我認為在疾病醫療或是基因研究方面，機器學習可以有很大的發揮空間。\n",
    "    \n",
    "   傳統醫療總需要經過大量的實驗才可以完善，不論是人類的醫學知識(什麼樣的食物、動作有什麼好壞處)或藥物研發，皆需要大量的時間、金錢研究才能確定。這也導致許多疾病現今仍無法高機率性的治癒，又或者許多醫學知識不斷在變化。現在的醫學進步其實非常緩慢。\n",
    "   \n",
    "   醫學領域，尤其是人體醫學，資料的收集其實是很其全的，不論是變數數量、或者量測準確度，都較工業界高出許多，比較大的問題可能是樣本數太少吧。但隨著醫療資訊系統化，這個問題未來可能也不是問題了。高的資料質量，複雜的問題，這不就是機器學習發揮的好地方嗎?\n",
    "   \n",
    "   賺錢的應用很多很多，但能幫助人類解決社會問題，甚至達到進化，這才是最有價值的地方。期待未來健保資料庫開放，或者醫學界開始大量導入資料觀念，不論是疾病、醫療觀念，甚至是使用基因改善遺傳缺陷，我覺得機器學習可以大大的幫助我們，尤其是在這一波AI熱潮中，相較於其它產業，醫學界在應用上仍遠遠落後"
   ]
  },
  {
   "cell_type": "code",
   "execution_count": null,
   "metadata": {},
   "outputs": [],
   "source": []
  }
 ],
 "metadata": {
  "kernelspec": {
   "display_name": "Python 3",
   "language": "python",
   "name": "python3"
  },
  "language_info": {
   "codemirror_mode": {
    "name": "ipython",
    "version": 3
   },
   "file_extension": ".py",
   "mimetype": "text/x-python",
   "name": "python",
   "nbconvert_exporter": "python",
   "pygments_lexer": "ipython3",
   "version": "3.7.1"
  }
 },
 "nbformat": 4,
 "nbformat_minor": 2
}
