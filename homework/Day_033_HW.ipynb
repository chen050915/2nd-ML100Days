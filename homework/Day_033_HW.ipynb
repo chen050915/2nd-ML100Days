{
 "cells": [
  {
   "cell_type": "markdown",
   "metadata": {},
   "source": [
    "## 練習時間"
   ]
  },
  {
   "cell_type": "markdown",
   "metadata": {},
   "source": [
    "請觀看李宏毅教授以神奇寶貝進化 CP 值預測的範例，解說何謂機器學習與過擬合。並回答以下問題"
   ]
  },
  {
   "cell_type": "markdown",
   "metadata": {},
   "source": [
    "[youtube](https://www.youtube.com/watch?v=fegAeph9UaA)"
   ]
  },
  {
   "cell_type": "markdown",
   "metadata": {},
   "source": [
    "### 1. 模型的泛化能力 (generalization) 是指什麼？ \n",
    "指資料在可以應用在先前未見過的資料的能力。就像是，準備考試時，模擬考題寫了N百題，但真正考試時，考題不一定是看過的，甚至可能會稍稍超過準備範圍，要是你真的讀懂了、讀通了，那就可以正確回答，所謂的generalization可以想成對背後真實瞭解的程度，對真實越瞭解、學的越多，考題怎麼變都可以選到正確答案。反之，若是死讀書，只將模擬考題用錯誤的方式學習(背?)下來，那真正在考試時可能就會達不出來，有就是所謂的 overfitting\n",
    "\n",
    "### 2. 分類問題與回歸問題分別可用的目標函數有哪些？\n",
    "多的哩，各舉兩個\n",
    "\n",
    "分類問題: Accuracy, Cross entory\n",
    "\n",
    "迴歸問題: MSE、MAE\n"
   ]
  },
  {
   "cell_type": "code",
   "execution_count": null,
   "metadata": {},
   "outputs": [],
   "source": []
  }
 ],
 "metadata": {
  "kernelspec": {
   "display_name": "Python 3",
   "language": "python",
   "name": "python3"
  },
  "language_info": {
   "codemirror_mode": {
    "name": "ipython",
    "version": 3
   },
   "file_extension": ".py",
   "mimetype": "text/x-python",
   "name": "python",
   "nbconvert_exporter": "python",
   "pygments_lexer": "ipython3",
   "version": "3.7.1"
  }
 },
 "nbformat": 4,
 "nbformat_minor": 2
}
