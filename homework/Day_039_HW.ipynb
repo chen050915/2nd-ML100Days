{
 "cells": [
  {
   "cell_type": "markdown",
   "metadata": {},
   "source": [
    "## [作業重點]\n",
    "清楚了解 L1, L2 的意義與差異為何，並了解 LASSO 與 Ridge 之間的差異與使用情境"
   ]
  },
  {
   "cell_type": "markdown",
   "metadata": {},
   "source": [
    "## 作業"
   ]
  },
  {
   "cell_type": "markdown",
   "metadata": {},
   "source": [
    "請閱讀相關文獻，並回答下列問題\n",
    "\n",
    "[脊回歸 (Ridge Regression)](https://blog.csdn.net/daunxx/article/details/51578787)\n",
    "[Linear, Ridge, Lasso Regression 本質區別](https://www.zhihu.com/question/38121173)\n",
    "\n",
    "1. LASSO 回歸可以被用來作為 Feature selection 的工具，請了解 LASSO 模型為什麼可用來作 Feature selection\n",
    "\n",
    "因為 L1 norm 的特性，只會保留足夠顯著的特徵，故也有人使用其結果當作 feature selection，不過在我自己的實作上，若後續不是使用 LASSO 來建模的話，其效果並沒有特別好。因為其變數選擇是根據 regression 也就是變數相加的概念上得出的，故後續若使用非 regression 的方法(NN、tree)等等，不會有非常好的結果也是可預期的\n",
    "\n",
    "2. 當自變數 (X) 存在高度共線性時，Ridge Regression 可以處理這樣的問題嗎?\n",
    "\n",
    "可以壓，Ridge regression 有一個特點就是可以處理共線性。尤其是當變數一多，共線性常常發生，在 regression 中，共線性沒處理好是會大大影響結果的。LASSO 在處理共線性時仍有不太好，故有人嘗試將 LASSO 與 Ridge 結合，同時保留其變數篩選與可處理共線性的特性，也是就 Elastic Net，不過缺點是得決定更多參數。"
   ]
  },
  {
   "cell_type": "code",
   "execution_count": null,
   "metadata": {},
   "outputs": [],
   "source": []
  }
 ],
 "metadata": {
  "kernelspec": {
   "display_name": "Python 3",
   "language": "python",
   "name": "python3"
  },
  "language_info": {
   "codemirror_mode": {
    "name": "ipython",
    "version": 3
   },
   "file_extension": ".py",
   "mimetype": "text/x-python",
   "name": "python",
   "nbconvert_exporter": "python",
   "pygments_lexer": "ipython3",
   "version": "3.7.1"
  }
 },
 "nbformat": 4,
 "nbformat_minor": 2
}
