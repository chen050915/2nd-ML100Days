{
 "cells": [
  {
   "cell_type": "markdown",
   "metadata": {},
   "source": [
    "# 作業\n",
    "* 選擇迴歸資料集(右) - 交錯六群，在其他參數保持預設值的情況下，只允許調整隱藏層層數與神經元數量，且遵守下列限制   \n",
    "> * 隱藏層神經元總數最多 8 個 (即 : 可以單層 8 個，或兩層 5 個與 3 個)   \n",
    "> * 遞迴次數只允許跑到500次  \n",
    "* 在上述限制下，挑戰看看測試誤差 (Test Loss) 最低能到多少? 請回答你的神經元參數與 Test Loss 數"
   ]
  },
  {
   "cell_type": "markdown",
   "metadata": {
    "collapsed": true
   },
   "source": [
    "我嘗試了幾種設定 (層數(神經元數量 for each hidden layer): test loss, training loss)\n",
    "1. 6層(2+1+1+2+1+1): 0.04, 0.047\n",
    "2. 1層(8): 0.014, 0.014\n",
    "3. 1層(4): 0.019, 0.019\n",
    "4. 2層(4+4): 0.019, 0.018\n",
    "5. 2層(6+2): 0.016, 0.016\n",
    "\n",
    "看起來設定一層且神經元數量為 8 時結果最好，這其實不意外拉，在大部分情況，先寬再深，開越寬效果會越顯著，寬度開到一定後效果會趨緩，這時候再開深會較好。\n",
    "\n",
    "BTW，在沒有限制的情況下，我玩到的最佳 loss 為 0.003, 0.003"
   ]
  }
 ],
 "metadata": {
  "kernelspec": {
   "display_name": "Python 3",
   "language": "python",
   "name": "python3"
  },
  "language_info": {
   "codemirror_mode": {
    "name": "ipython",
    "version": 3
   },
   "file_extension": ".py",
   "mimetype": "text/x-python",
   "name": "python",
   "nbconvert_exporter": "python",
   "pygments_lexer": "ipython3",
   "version": "3.7.1"
  }
 },
 "nbformat": 4,
 "nbformat_minor": 2
}
